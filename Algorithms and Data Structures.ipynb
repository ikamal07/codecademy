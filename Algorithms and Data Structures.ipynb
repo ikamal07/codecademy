{
 "cells": [
  {
   "cell_type": "code",
   "execution_count": 17,
   "id": "bbf23367",
   "metadata": {},
   "outputs": [
    {
     "data": {
      "text/plain": [
       "999999999"
      ]
     },
     "execution_count": 17,
     "metadata": {},
     "output_type": "execute_result"
    }
   ],
   "source": [
    "def linear_search(list, target):\n",
    "    # Returns the index position of the target if found , else returns None \n",
    "    for i in range(0,len(list)):\n",
    "        if list[i] == target:\n",
    "            return i\n",
    "    return None\n",
    "list1 = range(0,1000000000)\n",
    "linear_search(list1,999999999)"
   ]
  },
  {
   "cell_type": "code",
   "execution_count": null,
   "id": "60180c84",
   "metadata": {},
   "outputs": [],
   "source": []
  },
  {
   "cell_type": "code",
   "execution_count": 26,
   "id": "f627f3e0",
   "metadata": {},
   "outputs": [
    {
     "data": {
      "text/plain": [
       "999999999"
      ]
     },
     "execution_count": 26,
     "metadata": {},
     "output_type": "execute_result"
    }
   ],
   "source": [
    "def binary_search(list, target):\n",
    "    first = 0\n",
    "    last = len(list) - 1\n",
    "    while first <= last:\n",
    "        midpoint = (first+last)//2\n",
    "        \n",
    "        if list[midpoint] == target:\n",
    "            return midpoint\n",
    "        elif list[midpoint] < target:\n",
    "            first = midpoint + 1\n",
    "        else: \n",
    "            last = midpoint - 1\n",
    "    return None\n",
    "list1 = range(0,1000000000)\n",
    "binary_search(list1,999999999)\n",
    "\n",
    "    "
   ]
  },
  {
   "cell_type": "code",
   "execution_count": 29,
   "id": "7d976d6a",
   "metadata": {},
   "outputs": [
    {
     "data": {
      "text/plain": [
       "False"
      ]
     },
     "execution_count": 29,
     "metadata": {},
     "output_type": "execute_result"
    }
   ],
   "source": [
    "def recursive_binary_search(list, target):\n",
    "    if len(list) == 0:\n",
    "        return False\n",
    "    else:\n",
    "        midpoint = (len(list))//2\n",
    "        \n",
    "        if list[midpoint] == target:\n",
    "            return True\n",
    "        else:\n",
    "            if list[midpoint] < target:\n",
    "                \n",
    "                return recursive_binary_search(list[midpoint+1:], target)\n",
    "            else:\n",
    "                return recursive_binary_search(list[:midpoint], target)\n",
    "def  verify(result):\n",
    "    print(\"Target Found:\", result)\n",
    "\n",
    "\n",
    "list1 = range(0,1000000000)\n",
    "recursive_binary_search(list1,9999999999)\n",
    "    \n",
    "    \n",
    "            \n",
    "    \n",
    "\n"
   ]
  },
  {
   "cell_type": "code",
   "execution_count": 44,
   "id": "292cd678",
   "metadata": {},
   "outputs": [
    {
     "name": "stdout",
     "output_type": "stream",
     "text": [
      "True1\n",
      "True2\n"
     ]
    }
   ],
   "source": [
    "\n",
    "new_list = range(0,1000000000)\n",
    "result = new_list[0]\n",
    "if 999999999 in new_list: print(\"True1\")\n",
    "\n",
    "for n in new_list:\n",
    "    if n == 1:\n",
    "        print(\"True2\")\n",
    "        \n"
   ]
  },
  {
   "cell_type": "markdown",
   "id": "dd004cef",
   "metadata": {},
   "source": [
    "In the above , the 2nd for loop will take time as it is linear search  .. the first method uses lists inbuilt contain method to check the presence , hence it is quick \n"
   ]
  },
  {
   "cell_type": "code",
   "execution_count": 45,
   "id": "d7f4f2e6",
   "metadata": {},
   "outputs": [],
   "source": [
    "#Insert \n",
    "#inserting at 0th element , will move all the other items one index , if it is large list , it is time consuming"
   ]
  },
  {
   "cell_type": "code",
   "execution_count": 44,
   "id": "8057fd10",
   "metadata": {},
   "outputs": [],
   "source": [
    "class Node:\n",
    "    data = None\n",
    "    next_node = None\n",
    "    def __init__(self, data):\n",
    "        self.data = data \n",
    "    def __repr__(self):\n",
    "        return \"<Node data: %s>\" % self.data\n",
    "#nodes are builiding bloc , now lets create a linked list\n",
    "\n",
    "class LinkedList:\n",
    "    #head = None\n",
    "    def __init__(self):\n",
    "        self.head = None\n",
    "    \n",
    "    def is_empty(self):\n",
    "        return self.head == None\n",
    "    \n",
    "    def size(self):\n",
    "        #  goes through all (traverses) untill it hits tail , so it is linear operation\n",
    "        current = self.head\n",
    "        count = 0\n",
    "        while current != None:\n",
    "            count += 1\n",
    "            current = current.next_node\n",
    "        return count\n",
    "    def add(self, data):\n",
    "        # Adds new node containing data at head of the list take O(1) Time\n",
    "        new_node = Node(data)\n",
    "        new_node.next_node = self.head\n",
    "        self.head = new_node"
   ]
  },
  {
   "cell_type": "code",
   "execution_count": 2,
   "id": "0e54651f",
   "metadata": {},
   "outputs": [],
   "source": [
    "N1 = Node(10)"
   ]
  },
  {
   "cell_type": "code",
   "execution_count": 3,
   "id": "1e005995",
   "metadata": {},
   "outputs": [
    {
     "data": {
      "text/plain": [
       "<Node data: 10>"
      ]
     },
     "execution_count": 3,
     "metadata": {},
     "output_type": "execute_result"
    }
   ],
   "source": [
    "N1\n",
    "\n"
   ]
  },
  {
   "cell_type": "code",
   "execution_count": 4,
   "id": "de2d0475",
   "metadata": {},
   "outputs": [],
   "source": [
    "N2 = Node(20)"
   ]
  },
  {
   "cell_type": "code",
   "execution_count": 6,
   "id": "c2e287de",
   "metadata": {},
   "outputs": [],
   "source": [
    "N3 = N2.next_node"
   ]
  },
  {
   "cell_type": "code",
   "execution_count": 7,
   "id": "8579ec4d",
   "metadata": {},
   "outputs": [],
   "source": [
    "N3 = Node(40)"
   ]
  },
  {
   "cell_type": "code",
   "execution_count": 9,
   "id": "6d9f5f84",
   "metadata": {},
   "outputs": [
    {
     "data": {
      "text/plain": [
       "<Node data: 40>"
      ]
     },
     "execution_count": 9,
     "metadata": {},
     "output_type": "execute_result"
    }
   ],
   "source": [
    "N3"
   ]
  },
  {
   "cell_type": "markdown",
   "id": "1cad6813",
   "metadata": {},
   "source": [
    "## "
   ]
  },
  {
   "cell_type": "code",
   "execution_count": 10,
   "id": "6f6850b8",
   "metadata": {},
   "outputs": [
    {
     "data": {
      "text/plain": [
       "<Node data: 20>"
      ]
     },
     "execution_count": 10,
     "metadata": {},
     "output_type": "execute_result"
    }
   ],
   "source": [
    "N2"
   ]
  },
  {
   "cell_type": "code",
   "execution_count": 11,
   "id": "ff2500d1",
   "metadata": {},
   "outputs": [],
   "source": [
    "N2.next_node = N3"
   ]
  },
  {
   "cell_type": "code",
   "execution_count": 12,
   "id": "3e5e3855",
   "metadata": {},
   "outputs": [
    {
     "data": {
      "text/plain": [
       "<Node data: 40>"
      ]
     },
     "execution_count": 12,
     "metadata": {},
     "output_type": "execute_result"
    }
   ],
   "source": [
    "N2.next_node\n"
   ]
  },
  {
   "cell_type": "code",
   "execution_count": 36,
   "id": "8eaf8370",
   "metadata": {},
   "outputs": [],
   "source": [
    "l = LinkedList() "
   ]
  },
  {
   "cell_type": "code",
   "execution_count": 15,
   "id": "b90defbb",
   "metadata": {},
   "outputs": [],
   "source": [
    "# the above creates a linked list"
   ]
  },
  {
   "cell_type": "code",
   "execution_count": 37,
   "id": "0c2a79d7",
   "metadata": {},
   "outputs": [],
   "source": [
    "N1 = Node(10)\n"
   ]
  },
  {
   "cell_type": "code",
   "execution_count": 38,
   "id": "63998d2a",
   "metadata": {},
   "outputs": [
    {
     "data": {
      "text/plain": [
       "<Node data: 10>"
      ]
     },
     "execution_count": 38,
     "metadata": {},
     "output_type": "execute_result"
    }
   ],
   "source": [
    "N1\n"
   ]
  },
  {
   "cell_type": "code",
   "execution_count": 39,
   "id": "0c7ea44b",
   "metadata": {},
   "outputs": [],
   "source": [
    "l.head = N1\n"
   ]
  },
  {
   "cell_type": "code",
   "execution_count": 40,
   "id": "c93cda05",
   "metadata": {},
   "outputs": [
    {
     "data": {
      "text/plain": [
       "1"
      ]
     },
     "execution_count": 40,
     "metadata": {},
     "output_type": "execute_result"
    }
   ],
   "source": [
    "l.size()"
   ]
  },
  {
   "cell_type": "code",
   "execution_count": 41,
   "id": "ecc30dee",
   "metadata": {},
   "outputs": [],
   "source": [
    "N2 = 20"
   ]
  },
  {
   "cell_type": "code",
   "execution_count": 42,
   "id": "f26a4816",
   "metadata": {},
   "outputs": [],
   "source": [
    "N1.next_node = N2"
   ]
  },
  {
   "cell_type": "code",
   "execution_count": null,
   "id": "63f13339",
   "metadata": {},
   "outputs": [],
   "source": []
  },
  {
   "cell_type": "code",
   "execution_count": 45,
   "id": "7d403370",
   "metadata": {},
   "outputs": [],
   "source": [
    "l = LinkedList()"
   ]
  },
  {
   "cell_type": "code",
   "execution_count": 46,
   "id": "b92e8d9a",
   "metadata": {},
   "outputs": [],
   "source": [
    "l.add(2)"
   ]
  },
  {
   "cell_type": "code",
   "execution_count": 47,
   "id": "6adb08ee",
   "metadata": {},
   "outputs": [
    {
     "data": {
      "text/plain": [
       "1"
      ]
     },
     "execution_count": 47,
     "metadata": {},
     "output_type": "execute_result"
    }
   ],
   "source": [
    "l.size()"
   ]
  },
  {
   "cell_type": "code",
   "execution_count": 48,
   "id": "0a903f59",
   "metadata": {},
   "outputs": [],
   "source": [
    "l.add(5)"
   ]
  },
  {
   "cell_type": "code",
   "execution_count": 49,
   "id": "7244092b",
   "metadata": {},
   "outputs": [
    {
     "data": {
      "text/plain": [
       "2"
      ]
     },
     "execution_count": 49,
     "metadata": {},
     "output_type": "execute_result"
    }
   ],
   "source": [
    "l.size()"
   ]
  },
  {
   "cell_type": "code",
   "execution_count": 76,
   "id": "cc939dbc",
   "metadata": {},
   "outputs": [],
   "source": [
    "class Node:\n",
    "    data = None\n",
    "    next_node = None\n",
    "    def __init__(self, data):\n",
    "        self.data = data \n",
    "    def __repr__(self):\n",
    "        return \"<Node data: %s>\" % self.data\n",
    "#nodes are builiding bloc , now lets create a linked list\n",
    "\n",
    "class LinkedList:\n",
    "    #head = None\n",
    "    def __init__(self):\n",
    "        self.head = None\n",
    "    \n",
    "    def is_empty(self):\n",
    "        return self.head == None\n",
    "    \n",
    "    def size(self):\n",
    "        #  goes through all (traverses) untill it hits tail , so it is linear operation\n",
    "        current = self.head\n",
    "        count = 0\n",
    "        while current != None:\n",
    "            count += 1\n",
    "            current = current.next_node\n",
    "        return count\n",
    "    def add(self, data):\n",
    "        # Adds new node containing data at head of the list take O(1) Time\n",
    "        new_node = Node(data)\n",
    "        new_node.next_node = self.head\n",
    "        self.head = new_node\n",
    "    def __repr__(self):\n",
    "        ## return a string representation of the list takes O(n) time\n",
    "        nodes = []\n",
    "        current = self.head\n",
    "        while current != None:\n",
    "            if current is self.head:\n",
    "                nodes.append(\"[Head: %s]\" % current.data)\n",
    "            elif current.next_node is None:\n",
    "                nodes.append(\"[Tail: %s]\" % current.data)\n",
    "            else:\n",
    "                nodes.append(\"[%s]\" % current.data)\n",
    "            \n",
    "            current = current.next_node\n",
    "        return '-> '.join(nodes)"
   ]
  },
  {
   "cell_type": "code",
   "execution_count": 77,
   "id": "06721377",
   "metadata": {},
   "outputs": [],
   "source": [
    "l = LinkedList()"
   ]
  },
  {
   "cell_type": "code",
   "execution_count": 66,
   "id": "4bac4340",
   "metadata": {},
   "outputs": [
    {
     "data": {
      "text/plain": [
       "0"
      ]
     },
     "execution_count": 66,
     "metadata": {},
     "output_type": "execute_result"
    }
   ],
   "source": [
    "l.size()"
   ]
  },
  {
   "cell_type": "code",
   "execution_count": 70,
   "id": "50c15101",
   "metadata": {},
   "outputs": [
    {
     "data": {
      "text/plain": [
       "[Head: 5]-> [Tail: 5]"
      ]
     },
     "execution_count": 70,
     "metadata": {},
     "output_type": "execute_result"
    }
   ],
   "source": [
    "l.add(5)\n",
    "l"
   ]
  },
  {
   "cell_type": "code",
   "execution_count": 71,
   "id": "7ce61459",
   "metadata": {},
   "outputs": [],
   "source": [
    "l.add(20)"
   ]
  },
  {
   "cell_type": "code",
   "execution_count": 72,
   "id": "19e9df9c",
   "metadata": {},
   "outputs": [],
   "source": [
    "l.add(23)"
   ]
  },
  {
   "cell_type": "code",
   "execution_count": 73,
   "id": "e82992b4",
   "metadata": {},
   "outputs": [],
   "source": [
    "l.add(34)"
   ]
  },
  {
   "cell_type": "code",
   "execution_count": 74,
   "id": "9abf0fac",
   "metadata": {},
   "outputs": [
    {
     "data": {
      "text/plain": [
       "[Head: 34]-> [23]-> [20]-> [5]-> [Tail: 5]"
      ]
     },
     "execution_count": 74,
     "metadata": {},
     "output_type": "execute_result"
    }
   ],
   "source": [
    "l"
   ]
  },
  {
   "cell_type": "code",
   "execution_count": 75,
   "id": "98fa4a1e",
   "metadata": {},
   "outputs": [
    {
     "data": {
      "text/plain": [
       "5"
      ]
     },
     "execution_count": 75,
     "metadata": {},
     "output_type": "execute_result"
    }
   ],
   "source": [
    "l.size()"
   ]
  },
  {
   "cell_type": "code",
   "execution_count": 81,
   "id": "70534909",
   "metadata": {},
   "outputs": [
    {
     "data": {
      "text/plain": [
       "[Head: 9]-> [6]-> [5]-> [9]-> [6]-> [Tail: 5]"
      ]
     },
     "execution_count": 81,
     "metadata": {},
     "output_type": "execute_result"
    }
   ],
   "source": [
    "l.add(5)\n",
    "l.add(6)\n",
    "l.add(9)\n",
    "l"
   ]
  },
  {
   "cell_type": "markdown",
   "id": "ff7bd763",
   "metadata": {},
   "source": [
    "l = LinkedList()   // here it calls the class LinkedList ..there is only one constructor … which sets the head to None\n",
    "    \n",
    "l.add(5) // this creates the node object called new_node(in this case lets assume N1) , that object has 2 variables …which is set to 5 for data & next_node = None & we are setting the normal variable self.head = N1 here(Object)\n",
    "l.add(6) // This creates the node object called new_node(in this case lets assume N2) , that object has 2 variables , which is set to 6 for data & next_node = N1(from the previous self.head) and we are setting the normal value self.head = N2 here (object)\n",
    "l.add(9) // this creates the node object called new_node(in this case lets assume N3) , that object has 2 variables , which is set to 9 for data & next_node = N2(from the pervious self.head) and we are setting the norma values self.head = N3 here(object)\n",
    "\n",
    "// Note self.head is part of LinkedList but not part of the Node object , so it keeps moving to different Node with every add call .\n",
    "\n",
    "l.size() //it will pickup the self.head from the last add operation in this case N3 (value 9) ,since it is not none ..the counter keeps increasing till it reaches the last node where the next_node will be none , the loop will exit and the count value will be the length\n",
    "\n",
    "If we just call l , the o/p will be like this \n",
    "[Head: 9]-> [6]-> [Tail: 5]\n",
    "Why ?\n",
    "// it will pickup the self.head from the last add operation in this case N3 (value 9,next_node =N2) ..since it is not None 1st if will be executed & The word Head will be attached …, next_node is referenced to N2 now .. this time if will fail (as current is N2 , self.head is N3) , elif also will fail and hence the else will execute for [6] .  Then current is pointed to N1 now (5) , which has next node = None. , this time elif will get executed and Tail word will be added & current is set to None and hence while will exit"
   ]
  },
  {
   "cell_type": "code",
   "execution_count": 82,
   "id": "7bef4638",
   "metadata": {},
   "outputs": [
    {
     "data": {
      "text/plain": [
       "[Head: 9]-> [6]-> [5]-> [9]-> [6]-> [Tail: 5]"
      ]
     },
     "execution_count": 82,
     "metadata": {},
     "output_type": "execute_result"
    }
   ],
   "source": [
    "#now lets do search operation\n",
    "l\n"
   ]
  },
  {
   "cell_type": "code",
   "execution_count": 49,
   "id": "9e42b6b2",
   "metadata": {},
   "outputs": [],
   "source": [
    "class Node:\n",
    "    data = None\n",
    "    next_node = None\n",
    "    def __init__(self, data):\n",
    "        self.data = data \n",
    "    def __repr__(self):\n",
    "        return \"<Node data: %s>\" % self.data\n",
    "#nodes are builiding bloc , now lets create a linked list\n",
    "\n",
    "class LinkedList:\n",
    "    #head = None\n",
    "    def __init__(self):\n",
    "        self.head = None\n",
    "    \n",
    "    def is_empty(self):\n",
    "        return self.head == None\n",
    "    \n",
    "    def size(self):\n",
    "        #  goes through all (traverses) untill it hits tail , so it is linear operation\n",
    "        current = self.head\n",
    "        count = 0\n",
    "        while current != None:\n",
    "            count += 1\n",
    "            current = current.next_node\n",
    "        return count\n",
    "    def add(self, data):\n",
    "        # Adds new node containing data at head of the list take O(1) Time\n",
    "        new_node = Node(data)\n",
    "        new_node.next_node = self.head\n",
    "        self.head = new_node\n",
    "    def __repr__(self):\n",
    "        ## return a string representation of the list takes O(n) time\n",
    "        nodes = []\n",
    "        current = self.head\n",
    "        while current != None:\n",
    "            if current is self.head:\n",
    "                nodes.append(\"[Head: %s]\" % current.data)\n",
    "            elif current.next_node is None:\n",
    "                nodes.append(\"[Tail: %s]\" % current.data)\n",
    "            else:\n",
    "                nodes.append(\"[%s]\" % current.data)\n",
    "            \n",
    "            current = current.next_node\n",
    "        return '-> '.join(nodes)\n",
    "\n",
    "    def search(self,key):\n",
    "    # seach for first node containing data that matches the key return the nor or None if found\n",
    "        current = self.head\n",
    "    \n",
    "        while current != None:\n",
    "        # search for the 1st node containing \n",
    "            if current.data == key:\n",
    "                return current\n",
    "            else:\n",
    "                current = current.next_node\n",
    "        return \"None\"\n",
    "    def insert(self, data, index):\n",
    "        # Inserts a new Node containing data at index posistin , inserstion takes O(1) time , but finding the node at the insertion point takes linear time O(n), so overall it is a linear\n",
    "        if index == 0:\n",
    "            \n",
    "            self.add(data)\n",
    "        if index > 0:\n",
    "            new = Node(data)\n",
    "            \n",
    "            position = index\n",
    "            current = self.head\n",
    "            \n",
    "            while position > 1:\n",
    "                current = current.next_node\n",
    "                position -= 1\n",
    "            \n",
    "            prev_node = current\n",
    "            next_node = current.next_node\n",
    "            \n",
    "            prev_node.next_node = new\n",
    "            new.next_node = next_node\n",
    "        \n",
    "    def remove(self, key):\n",
    "        \"\"\"\n",
    "        Removes Node containing data that matches the key\n",
    "        Returns the node or `None` if key doesn't exist\n",
    "        Takes O(n) time\n",
    "        \"\"\"\n",
    "\n",
    "        current = self.head\n",
    "        previous = None\n",
    "        found = False\n",
    "\n",
    "        while current and not found:\n",
    "            if current.data == key and current is self.head:\n",
    "                found = True\n",
    "                self.head = current.next_node\n",
    "                #self.__count -= 1\n",
    "                return current\n",
    "            elif current.data == key:\n",
    "                found = True\n",
    "                previous.next_node = current.next_node\n",
    "                #self.__count -= 1\n",
    "                return current\n",
    "            else:\n",
    "                previous = current\n",
    "                current = current.next_node\n",
    "\n",
    "        return None\n",
    "        \n",
    "        "
   ]
  },
  {
   "cell_type": "code",
   "execution_count": 78,
   "id": "2563b54c",
   "metadata": {},
   "outputs": [],
   "source": [
    "l = LinkedList()"
   ]
  },
  {
   "cell_type": "code",
   "execution_count": 79,
   "id": "379aa8a9",
   "metadata": {},
   "outputs": [],
   "source": [
    "l.add(5)\n",
    "l.add(6)\n",
    "l.add(9)\n",
    "l.add(9000)"
   ]
  },
  {
   "cell_type": "code",
   "execution_count": 81,
   "id": "a2a9a74e",
   "metadata": {},
   "outputs": [
    {
     "data": {
      "text/plain": [
       "[Head: 9000]-> [9]-> [6]-> [Tail: 5]"
      ]
     },
     "execution_count": 81,
     "metadata": {},
     "output_type": "execute_result"
    }
   ],
   "source": [
    "l"
   ]
  },
  {
   "cell_type": "code",
   "execution_count": 76,
   "id": "fa6c5565",
   "metadata": {},
   "outputs": [
    {
     "data": {
      "text/plain": [
       "<Node data: 9000>"
      ]
     },
     "execution_count": 76,
     "metadata": {},
     "output_type": "execute_result"
    }
   ],
   "source": [
    "l.remove(9000) "
   ]
  },
  {
   "cell_type": "code",
   "execution_count": 77,
   "id": "fb17591b",
   "metadata": {},
   "outputs": [
    {
     "data": {
      "text/plain": [
       "[Head: 9]-> [6]-> [Tail: 5]"
      ]
     },
     "execution_count": 77,
     "metadata": {},
     "output_type": "execute_result"
    }
   ],
   "source": [
    "l"
   ]
  },
  {
   "cell_type": "code",
   "execution_count": 35,
   "id": "b6e9da79",
   "metadata": {},
   "outputs": [
    {
     "data": {
      "text/plain": [
       "[Head: 9000]-> [9]-> [6]-> [Tail: 5]"
      ]
     },
     "execution_count": 35,
     "metadata": {},
     "output_type": "execute_result"
    }
   ],
   "source": [
    "l\n"
   ]
  },
  {
   "cell_type": "code",
   "execution_count": 36,
   "id": "1407a511",
   "metadata": {},
   "outputs": [],
   "source": [
    "l.insert(16,2)"
   ]
  },
  {
   "cell_type": "code",
   "execution_count": 37,
   "id": "1d4e3d75",
   "metadata": {},
   "outputs": [
    {
     "data": {
      "text/plain": [
       "[Head: 9000]-> [9]-> [16]-> [6]-> [Tail: 5]"
      ]
     },
     "execution_count": 37,
     "metadata": {},
     "output_type": "execute_result"
    }
   ],
   "source": [
    "l"
   ]
  },
  {
   "cell_type": "code",
   "execution_count": 146,
   "id": "7e245c94",
   "metadata": {},
   "outputs": [
    {
     "data": {
      "text/plain": [
       "[Head: 9000]-> [9]-> [16]-> [6]-> [Tail: 5]"
      ]
     },
     "execution_count": 146,
     "metadata": {},
     "output_type": "execute_result"
    }
   ],
   "source": [
    "l"
   ]
  },
  {
   "cell_type": "code",
   "execution_count": 38,
   "id": "d24deadb",
   "metadata": {},
   "outputs": [],
   "source": [
    "l.insert(8565,4)"
   ]
  },
  {
   "cell_type": "code",
   "execution_count": 12,
   "id": "4be48ad5",
   "metadata": {},
   "outputs": [
    {
     "data": {
      "text/plain": [
       "[Head: 9000]-> [9]-> [6]-> [5]-> [8565]-> [Tail: 8565]"
      ]
     },
     "execution_count": 12,
     "metadata": {},
     "output_type": "execute_result"
    }
   ],
   "source": [
    "l"
   ]
  },
  {
   "cell_type": "code",
   "execution_count": 39,
   "id": "bf6f5556",
   "metadata": {},
   "outputs": [],
   "source": [
    "l.insert(7654,6)"
   ]
  },
  {
   "cell_type": "code",
   "execution_count": 40,
   "id": "ae25693f",
   "metadata": {},
   "outputs": [
    {
     "data": {
      "text/plain": [
       "[Head: 9000]-> [9]-> [16]-> [6]-> [8565]-> [5]-> [Tail: 7654]"
      ]
     },
     "execution_count": 40,
     "metadata": {},
     "output_type": "execute_result"
    }
   ],
   "source": [
    "l"
   ]
  },
  {
   "cell_type": "markdown",
   "id": "e487ebfe",
   "metadata": {},
   "source": [
    "Explanation for insert :- , if index = 0 , it is fairly simple we just call the add function which will add the new node as head . but for index > 0 , we have challenges . we create a new Node (new) .. initially the current will be pointing to 1st node (N1) and when we enter the while loop we traverse the head to one node position before inserting the data . \n",
    "\n",
    "outside the while loop we assign it to prev_node & also assign the next node to next_node ..now we need to insert the new node inbetween this prev_node and next_node .\n",
    "\n",
    "That is easily done using the 2 line\n",
    " prev_node.next_node = new\n",
    " new.next_node = next_node\n",
    "\n"
   ]
  },
  {
   "cell_type": "code",
   "execution_count": 41,
   "id": "4eda339a",
   "metadata": {},
   "outputs": [
    {
     "data": {
      "text/plain": [
       "<Node data: 5>"
      ]
     },
     "execution_count": 41,
     "metadata": {},
     "output_type": "execute_result"
    }
   ],
   "source": [
    "l.remove(5)"
   ]
  },
  {
   "cell_type": "code",
   "execution_count": 42,
   "id": "82f0c6d0",
   "metadata": {},
   "outputs": [
    {
     "data": {
      "text/plain": [
       "[Head: 9000]-> [9]-> [16]-> [6]-> [8565]-> [Tail: 7654]"
      ]
     },
     "execution_count": 42,
     "metadata": {},
     "output_type": "execute_result"
    }
   ],
   "source": [
    "l"
   ]
  },
  {
   "cell_type": "code",
   "execution_count": 45,
   "id": "430f68c2",
   "metadata": {},
   "outputs": [
    {
     "data": {
      "text/plain": [
       "<Node data: 9000>"
      ]
     },
     "execution_count": 45,
     "metadata": {},
     "output_type": "execute_result"
    }
   ],
   "source": [
    "l.remove(9000)"
   ]
  },
  {
   "cell_type": "code",
   "execution_count": 46,
   "id": "cd32b71d",
   "metadata": {},
   "outputs": [
    {
     "data": {
      "text/plain": [
       "[Head: 9]-> [16]-> [6]-> [8565]-> [Tail: 7654]"
      ]
     },
     "execution_count": 46,
     "metadata": {},
     "output_type": "execute_result"
    }
   ],
   "source": [
    "l\n"
   ]
  },
  {
   "cell_type": "code",
   "execution_count": 47,
   "id": "5478b863",
   "metadata": {},
   "outputs": [
    {
     "data": {
      "text/plain": [
       "<Node data: 6>"
      ]
     },
     "execution_count": 47,
     "metadata": {},
     "output_type": "execute_result"
    }
   ],
   "source": [
    "l.remove(6) "
   ]
  },
  {
   "cell_type": "code",
   "execution_count": 48,
   "id": "4fce4666",
   "metadata": {},
   "outputs": [
    {
     "data": {
      "text/plain": [
       "[Head: 9]-> [16]-> [8565]-> [Tail: 7654]"
      ]
     },
     "execution_count": 48,
     "metadata": {},
     "output_type": "execute_result"
    }
   ],
   "source": [
    "l\n"
   ]
  },
  {
   "cell_type": "code",
   "execution_count": 82,
   "id": "f05ea02a",
   "metadata": {},
   "outputs": [],
   "source": [
    "#merge sort"
   ]
  },
  {
   "cell_type": "code",
   "execution_count": 83,
   "id": "d251f7e1",
   "metadata": {},
   "outputs": [],
   "source": [
    "# Let's define a recursive merge sort function. As usual, it takes the\n",
    "# list or sub-list that we want it to sort.\n",
    "def merge_sort(values):\n",
    "  # Our base case is the same as with Quicksort. If the list has zero or one\n",
    "  # values, there's nothing to sort, so we return it as-is.\n",
    "  if len(values) <= 1:\n",
    "    return values\n",
    "  # If we didn't return, it means we're in the recursive case. So first we need\n",
    "  # to split the list in half. We need to know the index we should split on,\n",
    "  # so we get the length of the list and divide it by 2. So for example if\n",
    "  # there are 8 items in the list, we'll want an index of 4. But what if there\n",
    "  # were an odd number of items in the list, like 7? We can't have an index of\n",
    "  # 3.5, so we'll need to round down in that case. Since we're working in\n",
    "  # Python currently, we can take advantage of a special Python operator that\n",
    "  # divides and rounds the result down: the floor division operator. It\n",
    "  # consists of a double slash.\n",
    "  middle_index = len(values) // 2\n",
    "  # Now we'll use the Python slice syntax to get the left half of the list.\n",
    "  # We'll pass that list to a recursive call to the merge_sort function.\n",
    "  left_values = merge_sort(values[:middle_index])\n",
    "  # We'll also use slice syntax to get the right half of the list, and pass\n",
    "  # that to merge_sort as well.\n",
    "  right_values = merge_sort(values[middle_index:])\n",
    "  # Now we need to merge the two halves together, and sort them as we do it.\n",
    "  # We'll create a list to hold the sorted values.\n",
    "  sorted_values = []\n",
    "  # Now we get to the complicated part - merging the two halves together and\n",
    "  # sorting them as we do it.\n",
    "  # We'll be moving from left to right through the left half of the list,\n",
    "  # copying values over to the sorted_values list as we go. This left_index\n",
    "  # variable will help us keep track of our position.\n",
    "  left_index = 0\n",
    "  # At the same time, we'll also be moving from left to right through the right\n",
    "  # half of the list and copying values over, so we need a separate\n",
    "  # right_index variable to track that position as well.\n",
    "  right_index = 0\n",
    "  # We'll keep looping until we've processed all of the values in both halves\n",
    "  # of the list.\n",
    "  while left_index < len(left_values) and right_index < len(right_values):\n",
    "    # We're looking to copy over the lowest values first. So first we test\n",
    "    # whether the current value on the left side is less than the value on the\n",
    "    # right side.\n",
    "    if left_values[left_index] < right_values[right_index]:\n",
    "      # If the left side value is less, that's what we'll copy to the sorted\n",
    "      # list.\n",
    "      sorted_values.append(left_values[left_index])\n",
    "      # And then we'll move to the next value in the left half of the list.\n",
    "      left_index += 1\n",
    "    # Otherwise, the current value from the right half must have been lower.\n",
    "    else:\n",
    "      # So we'll copy that value to the sorted list instead.\n",
    "      sorted_values.append(right_values[right_index])\n",
    "      # And then we'll move to the next value in the right half of the list.\n",
    "      right_index += 1\n",
    "  # At this point one of the two unsorted halves still has a value remaining,\n",
    "  # and the other is empty. We won't waste time checking which is which.\n",
    "  # We'll just copy the remainder of both lists over to the sorted list.\n",
    "  # The one with a value left will add that value, and the empty one will add\n",
    "  # nothing.\n",
    "  sorted_values += left_values[left_index:]\n",
    "  sorted_values += right_values[right_index:]\n",
    "  # All the numbers from both halves should now be copied to the sorted list,\n",
    "  # so we can return it.\n",
    "  return sorted_values"
   ]
  },
  {
   "cell_type": "code",
   "execution_count": 84,
   "id": "a8da5c5a",
   "metadata": {},
   "outputs": [],
   "source": [
    "kk=[89,9000,1,8,543,3456,12,90,33,345,79,1979]"
   ]
  },
  {
   "cell_type": "code",
   "execution_count": 85,
   "id": "208d2ee1",
   "metadata": {},
   "outputs": [
    {
     "data": {
      "text/plain": [
       "[1, 8, 12, 33, 79, 89, 90, 345, 543, 1979, 3456, 9000]"
      ]
     },
     "execution_count": 85,
     "metadata": {},
     "output_type": "execute_result"
    }
   ],
   "source": [
    "merge_sort(kk)"
   ]
  },
  {
   "cell_type": "code",
   "execution_count": null,
   "id": "802069c4",
   "metadata": {},
   "outputs": [],
   "source": []
  }
 ],
 "metadata": {
  "kernelspec": {
   "display_name": "Python 3 (ipykernel)",
   "language": "python",
   "name": "python3"
  },
  "language_info": {
   "codemirror_mode": {
    "name": "ipython",
    "version": 3
   },
   "file_extension": ".py",
   "mimetype": "text/x-python",
   "name": "python",
   "nbconvert_exporter": "python",
   "pygments_lexer": "ipython3",
   "version": "3.9.12"
  }
 },
 "nbformat": 4,
 "nbformat_minor": 5
}
