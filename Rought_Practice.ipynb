{
 "cells": [
  {
   "cell_type": "code",
   "execution_count": 1,
   "id": "fa0f31a4",
   "metadata": {},
   "outputs": [],
   "source": [
    "#linear search"
   ]
  },
  {
   "cell_type": "code",
   "execution_count": 2,
   "id": "f525a838",
   "metadata": {},
   "outputs": [],
   "source": [
    "list1 = range(0,10000000)"
   ]
  },
  {
   "cell_type": "code",
   "execution_count": 3,
   "id": "0cdd4a25",
   "metadata": {},
   "outputs": [
    {
     "data": {
      "text/plain": [
       "range(0, 10000000)"
      ]
     },
     "execution_count": 3,
     "metadata": {},
     "output_type": "execute_result"
    }
   ],
   "source": [
    "list1\n"
   ]
  },
  {
   "cell_type": "code",
   "execution_count": 5,
   "id": "553c4048",
   "metadata": {},
   "outputs": [
    {
     "data": {
      "text/plain": [
       "5"
      ]
     },
     "execution_count": 5,
     "metadata": {},
     "output_type": "execute_result"
    }
   ],
   "source": [
    "list1[5]"
   ]
  },
  {
   "cell_type": "code",
   "execution_count": 23,
   "id": "4884c3c5",
   "metadata": {},
   "outputs": [
    {
     "data": {
      "text/plain": [
       "'Hello'"
      ]
     },
     "execution_count": 23,
     "metadata": {},
     "output_type": "execute_result"
    }
   ],
   "source": [
    "list1 = range(0,100000000)\n",
    "def linear_search(list,num):\n",
    "    for i in range(0,len(list)):\n",
    "        if list[i] == num:\n",
    "            return \"Hello\"\n",
    "            break\n",
    "    return \"Bye\"\n",
    "            \n",
    "        \n",
    "linear_search(list1,99999990)\n",
    "        "
   ]
  },
  {
   "cell_type": "code",
   "execution_count": 13,
   "id": "5c753916",
   "metadata": {},
   "outputs": [
    {
     "data": {
      "text/plain": [
       "10000000"
      ]
     },
     "execution_count": 13,
     "metadata": {},
     "output_type": "execute_result"
    }
   ],
   "source": [
    "list1 = range(0,10000000)\n",
    "len(list1)"
   ]
  },
  {
   "cell_type": "code",
   "execution_count": 27,
   "id": "c4ccfe81",
   "metadata": {},
   "outputs": [
    {
     "data": {
      "text/plain": [
       "'Nothing'"
      ]
     },
     "execution_count": 27,
     "metadata": {},
     "output_type": "execute_result"
    }
   ],
   "source": [
    "#Binary Search\n",
    "list1 = range(0,100000000)\n",
    "def binary_search(list,num):\n",
    "    first = 0\n",
    "    last = len(list) - 1\n",
    "    while first <= last:\n",
    "        midpoint = (first+last)//2\n",
    "        if list[midpoint] == num:\n",
    "            return \"Found\"\n",
    "        elif list[midpoint] < num:\n",
    "            first = midpoint + 1\n",
    "        else:\n",
    "            last = midpoint - 1\n",
    "    return \"Nothing\"\n",
    "binary_search(list1, 800000000)"
   ]
  },
  {
   "cell_type": "code",
   "execution_count": 34,
   "id": "514bfb73",
   "metadata": {},
   "outputs": [
    {
     "ename": "IndexError",
     "evalue": "range object index out of range",
     "output_type": "error",
     "traceback": [
      "\u001b[0;31m---------------------------------------------------------------------------\u001b[0m",
      "\u001b[0;31mIndexError\u001b[0m                                Traceback (most recent call last)",
      "Input \u001b[0;32mIn [34]\u001b[0m, in \u001b[0;36m<cell line: 14>\u001b[0;34m()\u001b[0m\n\u001b[1;32m     12\u001b[0m         \u001b[38;5;28;01mreturn\u001b[39;00m recu_search(\u001b[38;5;28mlist\u001b[39m[:midpoint],num)\n\u001b[1;32m     13\u001b[0m     \u001b[38;5;28;01mreturn\u001b[39;00m \u001b[38;5;124m\"\u001b[39m\u001b[38;5;124mBye\u001b[39m\u001b[38;5;124m\"\u001b[39m\n\u001b[0;32m---> 14\u001b[0m \u001b[43mrecu_search\u001b[49m\u001b[43m(\u001b[49m\u001b[43mlist1\u001b[49m\u001b[43m,\u001b[49m\u001b[38;5;241;43m900000000\u001b[39;49m\u001b[43m)\u001b[49m\n",
      "Input \u001b[0;32mIn [34]\u001b[0m, in \u001b[0;36mrecu_search\u001b[0;34m(list, num)\u001b[0m\n\u001b[1;32m      8\u001b[0m     \u001b[38;5;28;01mreturn\u001b[39;00m \u001b[38;5;124m\"\u001b[39m\u001b[38;5;124mFound\u001b[39m\u001b[38;5;124m\"\u001b[39m\n\u001b[1;32m      9\u001b[0m \u001b[38;5;28;01melif\u001b[39;00m \u001b[38;5;28mlist\u001b[39m[midpoint] \u001b[38;5;241m<\u001b[39m num:\n\u001b[0;32m---> 10\u001b[0m     \u001b[38;5;28;01mreturn\u001b[39;00m \u001b[43mrecu_search\u001b[49m\u001b[43m(\u001b[49m\u001b[38;5;28;43mlist\u001b[39;49m\u001b[43m[\u001b[49m\u001b[43mmidpoint\u001b[49m\u001b[38;5;241;43m+\u001b[39;49m\u001b[38;5;241;43m1\u001b[39;49m\u001b[43m:\u001b[49m\u001b[43m]\u001b[49m\u001b[43m,\u001b[49m\u001b[43mnum\u001b[49m\u001b[43m)\u001b[49m\n\u001b[1;32m     11\u001b[0m \u001b[38;5;28;01melse\u001b[39;00m:\n\u001b[1;32m     12\u001b[0m     \u001b[38;5;28;01mreturn\u001b[39;00m recu_search(\u001b[38;5;28mlist\u001b[39m[:midpoint],num)\n",
      "Input \u001b[0;32mIn [34]\u001b[0m, in \u001b[0;36mrecu_search\u001b[0;34m(list, num)\u001b[0m\n\u001b[1;32m      8\u001b[0m     \u001b[38;5;28;01mreturn\u001b[39;00m \u001b[38;5;124m\"\u001b[39m\u001b[38;5;124mFound\u001b[39m\u001b[38;5;124m\"\u001b[39m\n\u001b[1;32m      9\u001b[0m \u001b[38;5;28;01melif\u001b[39;00m \u001b[38;5;28mlist\u001b[39m[midpoint] \u001b[38;5;241m<\u001b[39m num:\n\u001b[0;32m---> 10\u001b[0m     \u001b[38;5;28;01mreturn\u001b[39;00m \u001b[43mrecu_search\u001b[49m\u001b[43m(\u001b[49m\u001b[38;5;28;43mlist\u001b[39;49m\u001b[43m[\u001b[49m\u001b[43mmidpoint\u001b[49m\u001b[38;5;241;43m+\u001b[39;49m\u001b[38;5;241;43m1\u001b[39;49m\u001b[43m:\u001b[49m\u001b[43m]\u001b[49m\u001b[43m,\u001b[49m\u001b[43mnum\u001b[49m\u001b[43m)\u001b[49m\n\u001b[1;32m     11\u001b[0m \u001b[38;5;28;01melse\u001b[39;00m:\n\u001b[1;32m     12\u001b[0m     \u001b[38;5;28;01mreturn\u001b[39;00m recu_search(\u001b[38;5;28mlist\u001b[39m[:midpoint],num)\n",
      "    \u001b[0;31m[... skipping similar frames: recu_search at line 10 (24 times)]\u001b[0m\n",
      "Input \u001b[0;32mIn [34]\u001b[0m, in \u001b[0;36mrecu_search\u001b[0;34m(list, num)\u001b[0m\n\u001b[1;32m      8\u001b[0m     \u001b[38;5;28;01mreturn\u001b[39;00m \u001b[38;5;124m\"\u001b[39m\u001b[38;5;124mFound\u001b[39m\u001b[38;5;124m\"\u001b[39m\n\u001b[1;32m      9\u001b[0m \u001b[38;5;28;01melif\u001b[39;00m \u001b[38;5;28mlist\u001b[39m[midpoint] \u001b[38;5;241m<\u001b[39m num:\n\u001b[0;32m---> 10\u001b[0m     \u001b[38;5;28;01mreturn\u001b[39;00m \u001b[43mrecu_search\u001b[49m\u001b[43m(\u001b[49m\u001b[38;5;28;43mlist\u001b[39;49m\u001b[43m[\u001b[49m\u001b[43mmidpoint\u001b[49m\u001b[38;5;241;43m+\u001b[39;49m\u001b[38;5;241;43m1\u001b[39;49m\u001b[43m:\u001b[49m\u001b[43m]\u001b[49m\u001b[43m,\u001b[49m\u001b[43mnum\u001b[49m\u001b[43m)\u001b[49m\n\u001b[1;32m     11\u001b[0m \u001b[38;5;28;01melse\u001b[39;00m:\n\u001b[1;32m     12\u001b[0m     \u001b[38;5;28;01mreturn\u001b[39;00m recu_search(\u001b[38;5;28mlist\u001b[39m[:midpoint],num)\n",
      "Input \u001b[0;32mIn [34]\u001b[0m, in \u001b[0;36mrecu_search\u001b[0;34m(list, num)\u001b[0m\n\u001b[1;32m      5\u001b[0m last \u001b[38;5;241m=\u001b[39m \u001b[38;5;28mlen\u001b[39m(\u001b[38;5;28mlist\u001b[39m) \u001b[38;5;241m-\u001b[39m \u001b[38;5;241m1\u001b[39m\n\u001b[1;32m      6\u001b[0m midpoint \u001b[38;5;241m=\u001b[39m (first\u001b[38;5;241m+\u001b[39mlast)\u001b[38;5;241m/\u001b[39m\u001b[38;5;241m/\u001b[39m\u001b[38;5;241m2\u001b[39m\n\u001b[0;32m----> 7\u001b[0m \u001b[38;5;28;01mif\u001b[39;00m \u001b[38;5;28;43mlist\u001b[39;49m\u001b[43m[\u001b[49m\u001b[43mmidpoint\u001b[49m\u001b[43m]\u001b[49m \u001b[38;5;241m==\u001b[39m num:\n\u001b[1;32m      8\u001b[0m     \u001b[38;5;28;01mreturn\u001b[39;00m \u001b[38;5;124m\"\u001b[39m\u001b[38;5;124mFound\u001b[39m\u001b[38;5;124m\"\u001b[39m\n\u001b[1;32m      9\u001b[0m \u001b[38;5;28;01melif\u001b[39;00m \u001b[38;5;28mlist\u001b[39m[midpoint] \u001b[38;5;241m<\u001b[39m num:\n",
      "\u001b[0;31mIndexError\u001b[0m: range object index out of range"
     ]
    }
   ],
   "source": [
    "#Recursive Search\n",
    "list1 = range(0,100000000)\n",
    "def recu_search(list,num):\n",
    "    first = 0\n",
    "    last = len(list) - 1\n",
    "    midpoint = (first+last)//2\n",
    "    if list[midpoint] == num:\n",
    "        return \"Found\"\n",
    "    elif list[midpoint] < num:\n",
    "        return recu_search(list[midpoint+1:],num)\n",
    "    else:\n",
    "        return recu_search(list[:midpoint],num)\n",
    "    return \"Bye\"\n",
    "recu_search(list1,900000000)\n",
    "    "
   ]
  },
  {
   "cell_type": "code",
   "execution_count": 38,
   "id": "27325774",
   "metadata": {},
   "outputs": [
    {
     "data": {
      "text/plain": [
       "'HaHa'"
      ]
     },
     "execution_count": 38,
     "metadata": {},
     "output_type": "execute_result"
    }
   ],
   "source": [
    "#Recursive Search\n",
    "list1 = range(0,100000000)\n",
    "def recu_search(list,num):\n",
    "    if len(list) == 0:\n",
    "        return \"HaHa\"\n",
    "    first = 0\n",
    "    midpoint = (len(list))//2\n",
    "    #midpoint = (first+last)//2\n",
    "    if list[midpoint] == num:\n",
    "        return \"Found\"\n",
    "    elif list[midpoint] < num:\n",
    "        return recu_search(list[midpoint+1:],num)\n",
    "    else:\n",
    "        return recu_search(list[:midpoint],num)\n",
    "    return \"Bye\"\n",
    "recu_search(list1,900000000)"
   ]
  },
  {
   "cell_type": "code",
   "execution_count": 1,
   "id": "7d2fa116",
   "metadata": {},
   "outputs": [],
   "source": [
    "#again Practice\n"
   ]
  },
  {
   "cell_type": "code",
   "execution_count": 5,
   "id": "4b112dd8",
   "metadata": {},
   "outputs": [
    {
     "data": {
      "text/plain": [
       "'Dadak'"
      ]
     },
     "execution_count": 5,
     "metadata": {},
     "output_type": "execute_result"
    }
   ],
   "source": [
    "list1 = range(0,100000000)\n",
    "def bin_recur_search(list, target):\n",
    "    if len(list) == 0:\n",
    "        return \"Dadak\"\n",
    "    midpoint = len(list)//2\n",
    "    if list[midpoint] == target:\n",
    "        return \"Found\"\n",
    "    elif list[midpoint] < target:\n",
    "        return bin_recur_search(list[midpoint+1:],target)\n",
    "    else:\n",
    "        return bin_recur_search(list[:midpoint], target)\n",
    "bin_recur_search(list1,9000000000000)"
   ]
  },
  {
   "cell_type": "code",
   "execution_count": null,
   "id": "840db8ed",
   "metadata": {},
   "outputs": [],
   "source": []
  }
 ],
 "metadata": {
  "kernelspec": {
   "display_name": "Python 3 (ipykernel)",
   "language": "python",
   "name": "python3"
  },
  "language_info": {
   "codemirror_mode": {
    "name": "ipython",
    "version": 3
   },
   "file_extension": ".py",
   "mimetype": "text/x-python",
   "name": "python",
   "nbconvert_exporter": "python",
   "pygments_lexer": "ipython3",
   "version": "3.9.12"
  }
 },
 "nbformat": 4,
 "nbformat_minor": 5
}
