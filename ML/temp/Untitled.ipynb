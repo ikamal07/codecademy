{
 "cells": [
  {
   "cell_type": "code",
   "execution_count": 35,
   "id": "263235d6",
   "metadata": {},
   "outputs": [],
   "source": [
    "df = pd.read_csv('./starbucks.csv')"
   ]
  },
  {
   "cell_type": "code",
   "execution_count": 3,
   "id": "92f30a47",
   "metadata": {},
   "outputs": [
    {
     "data": {
      "text/html": [
       "<div>\n",
       "<style scoped>\n",
       "    .dataframe tbody tr th:only-of-type {\n",
       "        vertical-align: middle;\n",
       "    }\n",
       "\n",
       "    .dataframe tbody tr th {\n",
       "        vertical-align: top;\n",
       "    }\n",
       "\n",
       "    .dataframe thead th {\n",
       "        text-align: right;\n",
       "    }\n",
       "</style>\n",
       "<table border=\"1\" class=\"dataframe\">\n",
       "  <thead>\n",
       "    <tr style=\"text-align: right;\">\n",
       "      <th></th>\n",
       "      <th>avg_spent</th>\n",
       "      <th>nearest_starbucks</th>\n",
       "      <th>age</th>\n",
       "      <th>rate_quality</th>\n",
       "      <th>rate_price</th>\n",
       "      <th>rate_promo</th>\n",
       "      <th>ambiance</th>\n",
       "      <th>wifi</th>\n",
       "      <th>service</th>\n",
       "      <th>meetings_hangout</th>\n",
       "    </tr>\n",
       "  </thead>\n",
       "  <tbody>\n",
       "    <tr>\n",
       "      <th>0</th>\n",
       "      <td>13</td>\n",
       "      <td>8</td>\n",
       "      <td>52</td>\n",
       "      <td>4</td>\n",
       "      <td>4</td>\n",
       "      <td>4</td>\n",
       "      <td>4</td>\n",
       "      <td>4</td>\n",
       "      <td>4</td>\n",
       "      <td>4</td>\n",
       "    </tr>\n",
       "    <tr>\n",
       "      <th>1</th>\n",
       "      <td>25</td>\n",
       "      <td>8</td>\n",
       "      <td>35</td>\n",
       "      <td>4</td>\n",
       "      <td>5</td>\n",
       "      <td>5</td>\n",
       "      <td>4</td>\n",
       "      <td>4</td>\n",
       "      <td>3</td>\n",
       "      <td>3</td>\n",
       "    </tr>\n",
       "    <tr>\n",
       "      <th>2</th>\n",
       "      <td>10</td>\n",
       "      <td>8</td>\n",
       "      <td>29</td>\n",
       "      <td>2</td>\n",
       "      <td>1</td>\n",
       "      <td>5</td>\n",
       "      <td>2</td>\n",
       "      <td>2</td>\n",
       "      <td>2</td>\n",
       "      <td>2</td>\n",
       "    </tr>\n",
       "    <tr>\n",
       "      <th>3</th>\n",
       "      <td>7</td>\n",
       "      <td>8</td>\n",
       "      <td>28</td>\n",
       "      <td>4</td>\n",
       "      <td>1</td>\n",
       "      <td>4</td>\n",
       "      <td>5</td>\n",
       "      <td>3</td>\n",
       "      <td>3</td>\n",
       "      <td>4</td>\n",
       "    </tr>\n",
       "    <tr>\n",
       "      <th>4</th>\n",
       "      <td>10</td>\n",
       "      <td>8</td>\n",
       "      <td>28</td>\n",
       "      <td>4</td>\n",
       "      <td>2</td>\n",
       "      <td>4</td>\n",
       "      <td>4</td>\n",
       "      <td>3</td>\n",
       "      <td>4</td>\n",
       "      <td>3</td>\n",
       "    </tr>\n",
       "  </tbody>\n",
       "</table>\n",
       "</div>"
      ],
      "text/plain": [
       "   avg_spent  nearest_starbucks  age  rate_quality  rate_price  rate_promo  \\\n",
       "0         13                  8   52             4           4           4   \n",
       "1         25                  8   35             4           5           5   \n",
       "2         10                  8   29             2           1           5   \n",
       "3          7                  8   28             4           1           4   \n",
       "4         10                  8   28             4           2           4   \n",
       "\n",
       "   ambiance  wifi  service  meetings_hangout  \n",
       "0         4     4        4                 4  \n",
       "1         4     4        3                 3  \n",
       "2         2     2        2                 2  \n",
       "3         5     3        3                 4  \n",
       "4         4     3        4                 3  "
      ]
     },
     "execution_count": 3,
     "metadata": {},
     "output_type": "execute_result"
    }
   ],
   "source": [
    "df.head()"
   ]
  },
  {
   "cell_type": "code",
   "execution_count": 39,
   "id": "3a3345a5",
   "metadata": {},
   "outputs": [
    {
     "data": {
      "text/plain": [
       "1"
      ]
     },
     "execution_count": 39,
     "metadata": {},
     "output_type": "execute_result"
    }
   ],
   "source": [
    "df['ambiance'].min()"
   ]
  },
  {
   "cell_type": "code",
   "execution_count": 40,
   "id": "a479d66e",
   "metadata": {},
   "outputs": [
    {
     "data": {
      "text/plain": [
       "Text(0, 0.5, 'Distribution')"
      ]
     },
     "execution_count": 40,
     "metadata": {},
     "output_type": "execute_result"
    },
    {
     "data": {
      "image/png": "[encoded data removed]",
      "text/plain": [
       "<Figure size 432x288 with 1 Axes>"
      ]
     },
     "metadata": {
      "needs_background": "light"
     },
     "output_type": "display_data"
    }
   ],
   "source": [
    "#Ambience Graph\n",
    "df['am_bins'] = pd.cut(x=df['ambiance'], bins=[0, 1, 2, 3, 4, 5])\n",
    "df['am_bins'].value_counts().plot(kind='bar')\n",
    "plt.title('Ambience Ratings Distribution')\n",
    "plt.xlabel('Bins')\n",
    "plt.ylabel('Distribution')"
   ]
  },
  {
   "cell_type": "code",
   "execution_count": 14,
   "id": "d0a228f0",
   "metadata": {},
   "outputs": [
    {
     "data": {
      "text/plain": [
       "Text(0, 0.5, 'Distribution')"
      ]
     },
     "execution_count": 14,
     "metadata": {},
     "output_type": "execute_result"
    },
    {
     "data": {
      "image/png": "[encoded data removed]",
      "text/plain": [
       "<Figure size 432x288 with 1 Axes>"
      ]
     },
     "metadata": {
      "needs_background": "light"
     },
     "output_type": "display_data"
    }
   ],
   "source": [
    "df['avg_spent_bins'] = pd.cut(x=df['avg_spent'], bins=[0, 4, 8, 12, 16, 20, 24, 28.1])\n",
    "df['avg_spent_bins'].value_counts().plot(kind='bar')\n",
    "plt.title('avg_spent Ratings Distribution')\n",
    "plt.xlabel('Bins')\n",
    "plt.ylabel('Distribution')"
   ]
  },
  {
   "cell_type": "code",
   "execution_count": 18,
   "id": "fb58fc1f",
   "metadata": {},
   "outputs": [
    {
     "data": {
      "text/plain": [
       "Text(0, 0.5, 'Distribution')"
      ]
     },
     "execution_count": 18,
     "metadata": {},
     "output_type": "execute_result"
    },
    {
     "data": {
      "image/png": "[encoded data removed]",
      "text/plain": [
       "<Figure size 432x288 with 1 Axes>"
      ]
     },
     "metadata": {
      "needs_background": "light"
     },
     "output_type": "display_data"
    }
   ],
   "source": [
    "df['age_bins'] = pd.cut(x=df['age'], bins=[12, 16, 20, 24, 28, 32, 36, 40, 44, 48, 52, 56, 60, 64, 68, 72,])\n",
    "df['age_bins'].value_counts().plot(kind='bar')\n",
    "plt.title('age Ratings Distribution')\n",
    "plt.xlabel('Bins')\n",
    "plt.ylabel('Distribution')"
   ]
  },
  {
   "cell_type": "code",
   "execution_count": 41,
   "id": "3643474a",
   "metadata": {},
   "outputs": [
    {
     "data": {
      "text/plain": [
       "Text(0, 0.5, 'Distribution')"
      ]
     },
     "execution_count": 41,
     "metadata": {},
     "output_type": "execute_result"
    },
    {
     "data": {
      "image/png": "[encoded data removed]",
      "text/plain": [
       "<Figure size 432x288 with 1 Axes>"
      ]
     },
     "metadata": {
      "needs_background": "light"
     },
     "output_type": "display_data"
    }
   ],
   "source": [
    "df['rate_quality_bins'] = pd.cut(x=df['rate_quality'], bins=[0, 1, 2, 3, 4, 5])\n",
    "df['rate_quality_bins'].value_counts().plot(kind='bar')\n",
    "plt.title('Rate_quality Ratings Distribution')\n",
    "plt.xlabel('Bins')\n",
    "plt.ylabel('Distribution')\n",
    "\n",
    "\n",
    "\n",
    "#df['avg_spent_bins'] = pd.cut(x=df['avg_spent'], bins=[0, 4, 8, 12, 16, 20, 24, 28.1])\n",
    "#df['avg_spent_bins'].value_counts().plot(kind='bar')"
   ]
  },
  {
   "cell_type": "code",
   "execution_count": null,
   "id": "f4fc1652",
   "metadata": {},
   "outputs": [],
   "source": []
  }
 ],
 "metadata": {
  "kernelspec": {
   "display_name": "Python 3 (ipykernel)",
   "language": "python",
   "name": "python3"
  },
  "language_info": {
   "codemirror_mode": {
    "name": "ipython",
    "version": 3
   },
   "file_extension": ".py",
   "mimetype": "text/x-python",
   "name": "python",
   "nbconvert_exporter": "python",
   "pygments_lexer": "ipython3",
   "version": "3.9.12"
  }
 },
 "nbformat": 4,
 "nbformat_minor": 5
}
