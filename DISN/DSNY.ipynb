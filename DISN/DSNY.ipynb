{
 "cells": [
  {
   "cell_type": "code",
   "execution_count": 1,
   "id": "a0c40563-c04b-43d9-93a8-fe8b635df01a",
   "metadata": {},
   "outputs": [
    {
     "name": "stdout",
     "output_type": "stream",
     "text": [
      "1                    \u001b[34mPictures\u001b[m\u001b[m/            hello.py\n",
      "\u001b[34mApplications\u001b[m\u001b[m/        \u001b[34mPublic\u001b[m\u001b[m/              \u001b[34mmmmail\u001b[m\u001b[m/\n",
      "Brewfile             \u001b[34mPycharmProjects\u001b[m\u001b[m/     \u001b[34mopt\u001b[m\u001b[m/\n",
      "Brewfile.lock.json   Untitled.ipynb       pod2htmd.tmp\n",
      "\u001b[34mDesktop\u001b[m\u001b[m/             Untitled1.ipynb      ppod.pod.yml\n",
      "\u001b[34mDocuments\u001b[m\u001b[m/           Untitled2.ipynb      recruit.py\n",
      "\u001b[34mDownloads\u001b[m\u001b[m/           Untitled3.ipynb      reverse.py\n",
      "\u001b[34mExercism\u001b[m\u001b[m/            as                   \u001b[34msd\u001b[m\u001b[m/\n",
      "\u001b[34mLibrary\u001b[m\u001b[m/             func.py              tall_and_narrow.png\n",
      "\u001b[34mMovies\u001b[m\u001b[m/              game.py\n",
      "\u001b[34mMusic\u001b[m\u001b[m/               \u001b[34mgo\u001b[m\u001b[m/\n"
     ]
    }
   ],
   "source": [
    "ls"
   ]
  },
  {
   "cell_type": "code",
   "execution_count": 2,
   "id": "38be1bf0-68bb-45cf-b339-389cd7fde109",
   "metadata": {},
   "outputs": [
    {
     "name": "stdout",
     "output_type": "stream",
     "text": [
      "/Users/kamallakannansekar/Documents\n"
     ]
    }
   ],
   "source": [
    "cd Documents"
   ]
  },
  {
   "cell_type": "code",
   "execution_count": 3,
   "id": "c683982d-8923-4ff1-b034-7a20a379e0e9",
   "metadata": {},
   "outputs": [
    {
     "name": "stdout",
     "output_type": "stream",
     "text": [
      "Bharani Numbers .pdf\n",
      "Chaithra Numbers.pdf\n",
      "\u001b[31mDefective AOU to Return.numbers\u001b[m\u001b[m*\n",
      "\u001b[31mEOL Solaris - icloudMail 2.numbers\u001b[m\u001b[m*\n",
      "EUL.pdf\n",
      "\u001b[31mEliyarpatti sketch.pdf\u001b[m\u001b[m*\n",
      "Gaurav-Numbers.pdf\n",
      "Himanshu Numbers.pdf\n",
      "\u001b[31mImmunization Record.pdf\u001b[m\u001b[m*\n",
      "\u001b[31mKamallakannan,Sekar_2022-01-24_Iranna,Gorabal_PSFeedback.pages\u001b[m\u001b[m*\n",
      "\u001b[31mKamallakannan_Sekar_2021-12-10_Anil_P_C_Feedback.pages\u001b[m\u001b[m*\n",
      "\u001b[31mKamallakannan_Sekar_2022-02-07_Harsimran_Singh_Feedback copy.pages\u001b[m\u001b[m*\n",
      "\u001b[34mMidyear\u001b[m\u001b[m/\n",
      "\u001b[34mPendriveee\u001b[m\u001b[m/\n",
      "Praveen Numbers.pdf\n",
      "\u001b[31mSekar,Kamallakannan_20210719_Anand_Kumar_Feedback copy.pages\u001b[m\u001b[m*\n",
      "\u001b[31mSekar,Kamallakannan_20210723_Aliammaz_Salman_Feedback copy 2.pages\u001b[m\u001b[m*\n",
      "\u001b[31mSekar,Kamallakannan_20210726_Emmanuel_Bakare_Feedback copy.pages\u001b[m\u001b[m*\n",
      "\u001b[31mSekar,Kamallakannan_20210726_Emmanuel_Bakare_Feedback.pages\u001b[m\u001b[m*\n",
      "\u001b[31mSekar,Kamallakannan_20210823_Anuj_Pandey_Feedback copy 3.pages\u001b[m\u001b[m*\n",
      "\u001b[31mSekar,Kamallakannan_20210907_Shashank_Dwivedi_Feedback copy 3.pages\u001b[m\u001b[m*\n",
      "\u001b[31mSekar,Kamallakannan_20210927_Keshav_Agarwal_Feedback copy 4.pages\u001b[m\u001b[m*\n",
      "\u001b[31mSekar,Kamallakannan_20211012_ Inian_Vasanth_Feedback copy 5.pages\u001b[m\u001b[m*\n",
      "\u001b[31mSekar,Kamallakannan_20211126_ James_Lund_Feedback copy 6.pages\u001b[m\u001b[m*\n",
      "\u001b[31mSekar,Kamallakannan_20211206_Kant_Ravi_Feedback copy 3.pages\u001b[m\u001b[m*\n",
      "\u001b[31mSekar,Kamallakannan_20220104_Salim_Gasmi_Feedback copy 2.pages\u001b[m\u001b[m*\n",
      "\u001b[31mSekar,Kamallakannan_20220104_Uthsav_Singh_Feedback copy 3.pages\u001b[m\u001b[m*\n",
      "\u001b[31mSekar,Kamallakannan_20220201_ Muthyala_Amar_Feedback copy 5.pages\u001b[m\u001b[m*\n",
      "\u001b[31mSekar,Kamallakannan_20220303_Pawan_Kumar_Feedback copy.pages\u001b[m\u001b[m*\n",
      "\u001b[31mSekar,Kamallakannan_20220505_Jaytee_Arora_Feedback.pages\u001b[m\u001b[m*\n",
      "\u001b[31mSekar,Kamallakannan_20220523_Meena_Sonu_Feedback copy 4.pages\u001b[m\u001b[m*\n",
      "\u001b[31mSekar,Kamallakannan_20220606_Ravi_Hemnani_Feedback copy 6.pages\u001b[m\u001b[m*\n",
      "\u001b[31mSekar,Kamallakannan_20220607_Ken_Yew_Piong_Feedback copy 5.pages\u001b[m\u001b[m*\n",
      "\u001b[31mSekar,Kamallakannan_20220613_Tisha_Emmanuel_Feedback copy 7.pages\u001b[m\u001b[m*\n",
      "\u001b[31mSekar,Kamallakannan_20220624_Ayush_Asthana_Feedback .pages\u001b[m\u001b[m*\n",
      "\u001b[31mSekar,Kamallakannan_20221003_SenthilNathan_A_Feedback copy 2.pages\u001b[m\u001b[m*\n",
      "\u001b[31mSekar,Kamallakannan_20222303_Nikita_Miropolskiy_A_Feedback.pages\u001b[m\u001b[m*\n",
      "\u001b[31mSekar,Kamallakannan_20222803_Martin_Cebollada_A_Feedback copy.pages\u001b[m\u001b[m*\n",
      "Sourav Numbers.pdf\n",
      "Sourav-Numbers.pdf\n",
      "\u001b[34mWebEx\u001b[m\u001b[m/\n",
      "\u001b[34mcodecdemy\u001b[m\u001b[m/\n",
      "happyeasygo.pdf\n",
      "image (1).png\n",
      "image (2).png\n",
      "image.png\n",
      "\u001b[34mjjj\u001b[m\u001b[m/\n",
      "ksrtc.pdf\n",
      "\u001b[34mpendrive\u001b[m\u001b[m/\n",
      "\u001b[34muntitled folder\u001b[m\u001b[m/\n"
     ]
    }
   ],
   "source": [
    "ls"
   ]
  },
  {
   "cell_type": "code",
   "execution_count": 4,
   "id": "f2567317-9f46-41b0-9564-460e6006f498",
   "metadata": {},
   "outputs": [
    {
     "name": "stdout",
     "output_type": "stream",
     "text": [
      "/Users/kamallakannansekar/Documents/codecdemy\n"
     ]
    }
   ],
   "source": [
    "cd codecdemy"
   ]
  },
  {
   "cell_type": "code",
   "execution_count": 5,
   "id": "54f2a23d-4e1c-49af-b59f-d4fffc201a07",
   "metadata": {},
   "outputs": [
    {
     "name": "stdout",
     "output_type": "stream",
     "text": [
      "\u001b[34mCapstone1\u001b[m\u001b[m/                    lime.png\n",
      "DJI.csv                       limesale.ipynb\n",
      "NFLX.csv                      my_bar_chart.png\n",
      "NFLX_daily_by_quarter.csv     my_line_graph.png\n",
      "Rough Notes.ipynb             my_side_by_side.png\n",
      "WorldCupMatches.csv           my_stacked_bar.png\n",
      "dataset1.csv                  netflix_visualizations.ipynb\n",
      "dataset2.csv                  sales_times.csv\n",
      "dataset3.csv                  sample1.csv\n",
      "dataset4.csv                  survey.csv\n",
      "goals.csv\n"
     ]
    }
   ],
   "source": [
    "ls\n"
   ]
  },
  {
   "cell_type": "code",
   "execution_count": 6,
   "id": "9a97c772-7cc9-4fa8-8fcc-f2bb42fac7da",
   "metadata": {},
   "outputs": [],
   "source": [
    "mkdir DISN"
   ]
  },
  {
   "cell_type": "code",
   "execution_count": 7,
   "id": "5b4668a5-14b0-4b58-9c70-0611413666fc",
   "metadata": {},
   "outputs": [
    {
     "name": "stdout",
     "output_type": "stream",
     "text": [
      "/Users/kamallakannansekar/Documents/codecdemy/DISN\n"
     ]
    }
   ],
   "source": [
    "cd DISN\n"
   ]
  },
  {
   "cell_type": "code",
   "execution_count": 2,
   "id": "6f262818-bb33-4764-9df0-775b0aa1e377",
   "metadata": {},
   "outputs": [],
   "source": [
    "from matplotlib import pyplot as plt\n",
    "import pandas as pd\n",
    "import seaborn as sns"
   ]
  },
  {
   "cell_type": "code",
   "execution_count": 3,
   "id": "a7ea8873-8796-47e1-a6ec-b07db66eec33",
   "metadata": {},
   "outputs": [
    {
     "name": "stdout",
     "output_type": "stream",
     "text": [
      "DIS.csv     DIS1.csv    DSNY.ipynb\r\n"
     ]
    }
   ],
   "source": [
    "ls"
   ]
  },
  {
   "cell_type": "code",
   "execution_count": 4,
   "id": "2e2b6064-aeee-43e9-b8b1-8287e90fef2b",
   "metadata": {},
   "outputs": [
    {
     "name": "stdout",
     "output_type": "stream",
     "text": [
      "         Date        Open        High         Low       Close   Adj Close  \\\n",
      "0  2017-07-03  106.760002  108.620003  106.760002  107.459999  102.905876   \n",
      "1  2017-07-05  107.830002  107.849998  105.290001  105.629997  101.153419   \n",
      "2  2017-07-06  104.610001  104.690002  102.940002  103.349998   99.706314   \n",
      "3  2017-07-07  103.510002  103.730003  102.720001  103.320000   99.677361   \n",
      "4  2017-07-10  103.300003  103.910004  102.870003  103.589996   99.937843   \n",
      "\n",
      "    Volume  \n",
      "0  5399400  \n",
      "1  8049700  \n",
      "2  8690800  \n",
      "3  6030900  \n",
      "4  4421300  \n"
     ]
    }
   ],
   "source": [
    "disney_stocks = pd.read_csv(\"DIS.csv\")\n",
    "print(disney_stocks.head(5))\n",
    "disney_stocks = disney_stocks.rename(columns={'Adj Close':'Price'})"
   ]
  },
  {
   "cell_type": "code",
   "execution_count": 5,
   "id": "84aec9f3-dde3-4901-aacd-f026e18aebd3",
   "metadata": {},
   "outputs": [
    {
     "data": {
      "text/plain": [
       "0    2017-07-03\n",
       "1    2017-07-05\n",
       "2    2017-07-06\n",
       "3    2017-07-07\n",
       "4    2017-07-10\n",
       "Name: Date, dtype: object"
      ]
     },
     "execution_count": 5,
     "metadata": {},
     "output_type": "execute_result"
    }
   ],
   "source": [
    "disney_stocks['Date'].head()"
   ]
  },
  {
   "cell_type": "code",
   "execution_count": 6,
   "id": "dc844975-dfe8-4ff4-af61-272408d0400a",
   "metadata": {},
   "outputs": [
    {
     "data": {
      "text/plain": [
       "1259"
      ]
     },
     "execution_count": 6,
     "metadata": {},
     "output_type": "execute_result"
    }
   ],
   "source": [
    "len(disney_stocks)"
   ]
  },
  {
   "cell_type": "code",
   "execution_count": 7,
   "id": "70453d9c-2368-4b53-bff9-2be613e5ce26",
   "metadata": {},
   "outputs": [
    {
     "data": {
      "text/plain": [
       "[<matplotlib.lines.Line2D at 0x7fc398593b20>]"
      ]
     },
     "execution_count": 7,
     "metadata": {},
     "output_type": "execute_result"
    },
    {
     "data": {
      "image/png": "[encoded data removed]",
      "text/plain": [
       "<Figure size 432x288 with 1 Axes>"
      ]
     },
     "metadata": {
      "needs_background": "light"
     },
     "output_type": "display_data"
    }
   ],
   "source": [
    "plt.plot(range(len(disney_stocks)) , disney_stocks['Close'])\n"
   ]
  },
  {
   "cell_type": "code",
   "execution_count": 8,
   "id": "e23d040f-3a63-4d5d-abee-810621b4e810",
   "metadata": {},
   "outputs": [
    {
     "name": "stdout",
     "output_type": "stream",
     "text": [
      "<class 'pandas.core.frame.DataFrame'>\n",
      "RangeIndex: 1259 entries, 0 to 1258\n",
      "Data columns (total 7 columns):\n",
      " #   Column  Non-Null Count  Dtype  \n",
      "---  ------  --------------  -----  \n",
      " 0   Date    1259 non-null   object \n",
      " 1   Open    1259 non-null   float64\n",
      " 2   High    1259 non-null   float64\n",
      " 3   Low     1259 non-null   float64\n",
      " 4   Close   1259 non-null   float64\n",
      " 5   Price   1259 non-null   float64\n",
      " 6   Volume  1259 non-null   int64  \n",
      "dtypes: float64(5), int64(1), object(1)\n",
      "memory usage: 69.0+ KB\n"
     ]
    }
   ],
   "source": [
    "disney_stocks.info()"
   ]
  },
  {
   "cell_type": "code",
   "execution_count": 9,
   "id": "dcf52410-ae2d-48ab-bff7-a58f60f10e98",
   "metadata": {},
   "outputs": [],
   "source": [
    "disney_stocks['Date'] = pd.to_datetime(disney_stocks['Date'])"
   ]
  },
  {
   "cell_type": "code",
   "execution_count": 10,
   "id": "635f942b-c0ba-4c2a-bf67-9aff863ed663",
   "metadata": {},
   "outputs": [
    {
     "name": "stdout",
     "output_type": "stream",
     "text": [
      "<class 'pandas.core.frame.DataFrame'>\n",
      "RangeIndex: 1259 entries, 0 to 1258\n",
      "Data columns (total 7 columns):\n",
      " #   Column  Non-Null Count  Dtype         \n",
      "---  ------  --------------  -----         \n",
      " 0   Date    1259 non-null   datetime64[ns]\n",
      " 1   Open    1259 non-null   float64       \n",
      " 2   High    1259 non-null   float64       \n",
      " 3   Low     1259 non-null   float64       \n",
      " 4   Close   1259 non-null   float64       \n",
      " 5   Price   1259 non-null   float64       \n",
      " 6   Volume  1259 non-null   int64         \n",
      "dtypes: datetime64[ns](1), float64(5), int64(1)\n",
      "memory usage: 69.0 KB\n"
     ]
    }
   ],
   "source": [
    "disney_stocks.info()"
   ]
  },
  {
   "cell_type": "code",
   "execution_count": 11,
   "id": "50969de0-6847-4cbd-8493-72a54633ab63",
   "metadata": {},
   "outputs": [],
   "source": [
    "disney_stocks['Year'] = disney_stocks['Date'].dt.strftime('%Y')"
   ]
  },
  {
   "cell_type": "code",
   "execution_count": 12,
   "id": "3e283249-350c-492a-90b1-12a11cce8a32",
   "metadata": {},
   "outputs": [
    {
     "data": {
      "text/html": [
       "<div>\n",
       "<style scoped>\n",
       "    .dataframe tbody tr th:only-of-type {\n",
       "        vertical-align: middle;\n",
       "    }\n",
       "\n",
       "    .dataframe tbody tr th {\n",
       "        vertical-align: top;\n",
       "    }\n",
       "\n",
       "    .dataframe thead th {\n",
       "        text-align: right;\n",
       "    }\n",
       "</style>\n",
       "<table border=\"1\" class=\"dataframe\">\n",
       "  <thead>\n",
       "    <tr style=\"text-align: right;\">\n",
       "      <th></th>\n",
       "      <th>Date</th>\n",
       "      <th>Open</th>\n",
       "      <th>High</th>\n",
       "      <th>Low</th>\n",
       "      <th>Close</th>\n",
       "      <th>Price</th>\n",
       "      <th>Volume</th>\n",
       "      <th>Year</th>\n",
       "    </tr>\n",
       "  </thead>\n",
       "  <tbody>\n",
       "    <tr>\n",
       "      <th>0</th>\n",
       "      <td>2017-07-03</td>\n",
       "      <td>106.760002</td>\n",
       "      <td>108.620003</td>\n",
       "      <td>106.760002</td>\n",
       "      <td>107.459999</td>\n",
       "      <td>102.905876</td>\n",
       "      <td>5399400</td>\n",
       "      <td>2017</td>\n",
       "    </tr>\n",
       "    <tr>\n",
       "      <th>1</th>\n",
       "      <td>2017-07-05</td>\n",
       "      <td>107.830002</td>\n",
       "      <td>107.849998</td>\n",
       "      <td>105.290001</td>\n",
       "      <td>105.629997</td>\n",
       "      <td>101.153419</td>\n",
       "      <td>8049700</td>\n",
       "      <td>2017</td>\n",
       "    </tr>\n",
       "    <tr>\n",
       "      <th>2</th>\n",
       "      <td>2017-07-06</td>\n",
       "      <td>104.610001</td>\n",
       "      <td>104.690002</td>\n",
       "      <td>102.940002</td>\n",
       "      <td>103.349998</td>\n",
       "      <td>99.706314</td>\n",
       "      <td>8690800</td>\n",
       "      <td>2017</td>\n",
       "    </tr>\n",
       "    <tr>\n",
       "      <th>3</th>\n",
       "      <td>2017-07-07</td>\n",
       "      <td>103.510002</td>\n",
       "      <td>103.730003</td>\n",
       "      <td>102.720001</td>\n",
       "      <td>103.320000</td>\n",
       "      <td>99.677361</td>\n",
       "      <td>6030900</td>\n",
       "      <td>2017</td>\n",
       "    </tr>\n",
       "    <tr>\n",
       "      <th>4</th>\n",
       "      <td>2017-07-10</td>\n",
       "      <td>103.300003</td>\n",
       "      <td>103.910004</td>\n",
       "      <td>102.870003</td>\n",
       "      <td>103.589996</td>\n",
       "      <td>99.937843</td>\n",
       "      <td>4421300</td>\n",
       "      <td>2017</td>\n",
       "    </tr>\n",
       "  </tbody>\n",
       "</table>\n",
       "</div>"
      ],
      "text/plain": [
       "        Date        Open        High         Low       Close       Price  \\\n",
       "0 2017-07-03  106.760002  108.620003  106.760002  107.459999  102.905876   \n",
       "1 2017-07-05  107.830002  107.849998  105.290001  105.629997  101.153419   \n",
       "2 2017-07-06  104.610001  104.690002  102.940002  103.349998   99.706314   \n",
       "3 2017-07-07  103.510002  103.730003  102.720001  103.320000   99.677361   \n",
       "4 2017-07-10  103.300003  103.910004  102.870003  103.589996   99.937843   \n",
       "\n",
       "    Volume  Year  \n",
       "0  5399400  2017  \n",
       "1  8049700  2017  \n",
       "2  8690800  2017  \n",
       "3  6030900  2017  \n",
       "4  4421300  2017  "
      ]
     },
     "execution_count": 12,
     "metadata": {},
     "output_type": "execute_result"
    }
   ],
   "source": [
    "disney_stocks.head()"
   ]
  },
  {
   "cell_type": "code",
   "execution_count": 13,
   "id": "791e624d-f580-495a-9060-b9ea779823e2",
   "metadata": {},
   "outputs": [
    {
     "data": {
      "image/png": "[encoded data removed]",
      "text/plain": [
       "<Figure size 1440x792 with 1 Axes>"
      ]
     },
     "metadata": {
      "needs_background": "light"
     },
     "output_type": "display_data"
    }
   ],
   "source": [
    "ax = sns.violinplot(x=disney_stocks['Year'], y=disney_stocks['Close'], data=disney_stocks)\n",
    "ax.set_title('Distribution of  Netflix Stock Prices by Year')\n",
    "plt.xlabel('Year')\n",
    "plt.ylabel('Closing Stock Price')\n",
    "figure2 = plt.gcf()\n",
    "figure2.set_size_inches(20, 11)\n",
    "plt.show()"
   ]
  },
  {
   "cell_type": "code",
   "execution_count": null,
   "id": "218c8d42-352d-448e-ab2c-f2b37e7f17ed",
   "metadata": {},
   "outputs": [],
   "source": []
  },
  {
   "cell_type": "code",
   "execution_count": null,
   "id": "f9f8c223-50b1-4dab-bdb0-8fb9c256e4fd",
   "metadata": {},
   "outputs": [],
   "source": []
  },
  {
   "cell_type": "code",
   "execution_count": null,
   "id": "c5cd92e8-21ff-4cbd-a9f0-5583ca1b9406",
   "metadata": {},
   "outputs": [],
   "source": []
  },
  {
   "cell_type": "code",
   "execution_count": null,
   "id": "e8ffbec7-1028-4391-b4ad-5fa63d5cae33",
   "metadata": {},
   "outputs": [],
   "source": []
  }
 ],
 "metadata": {
  "kernelspec": {
   "display_name": "Python 3 (ipykernel)",
   "language": "python",
   "name": "python3"
  },
  "language_info": {
   "codemirror_mode": {
    "name": "ipython",
    "version": 3
   },
   "file_extension": ".py",
   "mimetype": "text/x-python",
   "name": "python",
   "nbconvert_exporter": "python",
   "pygments_lexer": "ipython3",
   "version": "3.9.12"
  }
 },
 "nbformat": 4,
 "nbformat_minor": 5
}
