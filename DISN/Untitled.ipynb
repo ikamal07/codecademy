{
 "cells": [
  {
   "cell_type": "code",
   "execution_count": 1,
   "id": "abe3d36e",
   "metadata": {},
   "outputs": [
    {
     "data": {
      "text/plain": [
       "'/Users/kamallakannansekar/Documents/codecdemy/DISN'"
      ]
     },
     "execution_count": 1,
     "metadata": {},
     "output_type": "execute_result"
    }
   ],
   "source": [
    "pwd"
   ]
  },
  {
   "cell_type": "code",
   "execution_count": 2,
   "id": "13763fcd",
   "metadata": {},
   "outputs": [
    {
     "name": "stdout",
     "output_type": "stream",
     "text": [
      "/Users/kamallakannansekar/Documents/codecdemy/Tick\n"
     ]
    }
   ],
   "source": [
    "cd ../Tick/"
   ]
  },
  {
   "cell_type": "code",
   "execution_count": 3,
   "id": "5bb2b9ac",
   "metadata": {},
   "outputs": [
    {
     "name": "stdout",
     "output_type": "stream",
     "text": [
      "New_Screen_3_7_2022.csv\r\n"
     ]
    }
   ],
   "source": [
    "ls"
   ]
  },
  {
   "cell_type": "code",
   "execution_count": 4,
   "id": "ef4a62f3",
   "metadata": {},
   "outputs": [],
   "source": [
    "from matplotlib import pyplot as plt\n",
    "import pandas as pd\n",
    "import seaborn as sns"
   ]
  },
  {
   "cell_type": "code",
   "execution_count": 5,
   "id": "1884326c",
   "metadata": {},
   "outputs": [],
   "source": [
    "stock_data = pd.read_csv('New_Screen_3_7_2022.csv')"
   ]
  },
  {
   "cell_type": "code",
   "execution_count": 7,
   "id": "368b2527",
   "metadata": {},
   "outputs": [
    {
     "name": "stdout",
     "output_type": "stream",
     "text": [
      "                            Name      Ticker  \\\n",
      "0        Reliance Industries Ltd    RELIANCE   \n",
      "1  Tata Consultancy Services Ltd         TCS   \n",
      "2                  HDFC Bank Ltd    HDFCBANK   \n",
      "3                    Infosys Ltd        INFY   \n",
      "4         Hindustan Unilever Ltd  HINDUNILVR   \n",
      "\n",
      "                         Sub-Sector    Market Cap  Close Price   PE Ratio  \\\n",
      "0  Oil & Gas - Refining & Marketing  1.630441e+06      2408.70  26.858436   \n",
      "1          IT Services & Consulting  1.213012e+06      3315.10  31.649023   \n",
      "2                     Private Banks  7.519476e+05      1353.75  19.760663   \n",
      "3          IT Services & Consulting  6.204448e+05      1479.40  28.061729   \n",
      "4         FMCG - Household Products  5.362590e+05      2282.35  60.396324   \n",
      "\n",
      "   % Away From 52W High       ROCE  Debt to Equity  \\\n",
      "0             18.576411   9.470147       33.855037   \n",
      "1             21.957105  53.230601        8.701556   \n",
      "2             27.423823   9.005234             NaN   \n",
      "3             32.073814  36.462719        7.227738   \n",
      "4             25.278770  20.236045        2.124799   \n",
      "\n",
      "   5Y Historical Revenue Growth  ...  Percentage Buy Reco’s  \\\n",
      "0                     17.935315  ...              69.696970   \n",
      "1                      9.886696  ...              48.888889   \n",
      "2                     14.242193  ...              92.307692   \n",
      "3                     11.618708  ...              78.723404   \n",
      "4                      9.348280  ...              75.675676   \n",
      "\n",
      "   Percentage Upside  Fundamental Score  Value Momentum Rank  \\\n",
      "0          10.825188           5.593750                   82   \n",
      "1          20.779897           6.761957                   39   \n",
      "2          43.274659           8.128571                   35   \n",
      "3          37.087420           5.870652                   31   \n",
      "4          12.558504           7.666667                   12   \n",
      "\n",
      "   Earnings Quality Rank  Price Momentum Rank  Price to Intrinsic Value Rank  \\\n",
      "0                    3.0                 56.0                           53.0   \n",
      "1                   97.0                 53.0                           38.0   \n",
      "2                   29.0                 17.0                           59.0   \n",
      "3                   97.0                 47.0                           52.0   \n",
      "4                   63.0                 38.0                           17.0   \n",
      "\n",
      "   Total Revenue  Total Debt  Expense Ratio  \n",
      "0       718025.0    270648.0            NaN  \n",
      "1       195772.0      7818.0            NaN  \n",
      "2       167695.4         NaN            NaN  \n",
      "3       123936.0      5474.0            NaN  \n",
      "4        52887.0      1043.0            NaN  \n",
      "\n",
      "[5 rows x 22 columns]\n"
     ]
    }
   ],
   "source": [
    "print(stock_data.head(5))"
   ]
  },
  {
   "cell_type": "code",
   "execution_count": 13,
   "id": "36e03f31",
   "metadata": {},
   "outputs": [
    {
     "ename": "ValueError",
     "evalue": "invalid literal for int() with base 10: 'ROCE'",
     "output_type": "error",
     "traceback": [
      "\u001b[0;31m---------------------------------------------------------------------------\u001b[0m",
      "\u001b[0;31mValueError\u001b[0m                                Traceback (most recent call last)",
      "Input \u001b[0;32mIn [13]\u001b[0m, in \u001b[0;36m<cell line: 1>\u001b[0;34m()\u001b[0m\n\u001b[0;32m----> 1\u001b[0m sns\u001b[38;5;241m.\u001b[39mbarplot(x\u001b[38;5;241m=\u001b[39mstock_data[\u001b[38;5;124m'\u001b[39m\u001b[38;5;124mName\u001b[39m\u001b[38;5;124m'\u001b[39m],y \u001b[38;5;241m=\u001b[39m stock_data[\u001b[38;5;28;43mint\u001b[39;49m\u001b[43m(\u001b[49m\u001b[38;5;124;43m'\u001b[39;49m\u001b[38;5;124;43mROCE\u001b[39;49m\u001b[38;5;124;43m'\u001b[39;49m\u001b[43m)\u001b[49m \u001b[38;5;241m>\u001b[39m \u001b[38;5;241m10.0\u001b[39m], data\u001b[38;5;241m=\u001b[39mstock_data)\n",
      "\u001b[0;31mValueError\u001b[0m: invalid literal for int() with base 10: 'ROCE'"
     ]
    }
   ],
   "source": [
    "sns.barplot(x=stock_data['Name'],y = stock_data[int('ROCE') > 10.0], data=stock_data)"
   ]
  },
  {
   "cell_type": "code",
   "execution_count": 11,
   "id": "703ed78d",
   "metadata": {},
   "outputs": [
    {
     "name": "stdout",
     "output_type": "stream",
     "text": [
      "<class 'pandas.core.frame.DataFrame'>\n",
      "RangeIndex: 100 entries, 0 to 99\n",
      "Data columns (total 22 columns):\n",
      " #   Column                         Non-Null Count  Dtype  \n",
      "---  ------                         --------------  -----  \n",
      " 0   Name                           100 non-null    object \n",
      " 1   Ticker                         100 non-null    object \n",
      " 2   Sub-Sector                     100 non-null    object \n",
      " 3   Market Cap                     100 non-null    float64\n",
      " 4   Close Price                    100 non-null    float64\n",
      " 5   PE Ratio                       100 non-null    float64\n",
      " 6   % Away From 52W High           100 non-null    float64\n",
      " 7   ROCE                           99 non-null     float64\n",
      " 8   Debt to Equity                 92 non-null     float64\n",
      " 9   5Y Historical Revenue Growth   97 non-null     float64\n",
      " 10  Sector PE                      100 non-null    float64\n",
      " 11  No. of analysts with buy reco  100 non-null    int64  \n",
      " 12  Percentage Buy Reco’s          97 non-null     float64\n",
      " 13  Percentage Upside              99 non-null     float64\n",
      " 14  Fundamental Score              81 non-null     float64\n",
      " 15  Value Momentum Rank            100 non-null    int64  \n",
      " 16  Earnings Quality Rank          99 non-null     float64\n",
      " 17  Price Momentum Rank            97 non-null     float64\n",
      " 18  Price to Intrinsic Value Rank  94 non-null     float64\n",
      " 19  Total Revenue                  100 non-null    float64\n",
      " 20  Total Debt                     92 non-null     float64\n",
      " 21  Expense Ratio                  0 non-null      float64\n",
      "dtypes: float64(17), int64(2), object(3)\n",
      "memory usage: 17.3+ KB\n"
     ]
    }
   ],
   "source": [
    "stock_data.info()"
   ]
  },
  {
   "cell_type": "code",
   "execution_count": null,
   "id": "d2d76ca9",
   "metadata": {},
   "outputs": [],
   "source": []
  }
 ],
 "metadata": {
  "kernelspec": {
   "display_name": "Python 3 (ipykernel)",
   "language": "python",
   "name": "python3"
  },
  "language_info": {
   "codemirror_mode": {
    "name": "ipython",
    "version": 3
   },
   "file_extension": ".py",
   "mimetype": "text/x-python",
   "name": "python",
   "nbconvert_exporter": "python",
   "pygments_lexer": "ipython3",
   "version": "3.9.12"
  }
 },
 "nbformat": 4,
 "nbformat_minor": 5
}
